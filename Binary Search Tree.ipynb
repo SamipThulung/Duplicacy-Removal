{
 "cells": [
  {
   "cell_type": "code",
   "execution_count": 1,
   "metadata": {},
   "outputs": [
    {
     "name": "stdout",
     "output_type": "stream",
     "text": [
      "6\n",
      "-3\n",
      "-4\n",
      "-1\n",
      "10\n",
      "4\n",
      "7 Not Found\n",
      "14 Not Found\n",
      "(3, ': ', [2]) (6, ': ', [6]) (12, ': ', [12]) (14, ': ', [15]) (21, ': ', [16])\n"
     ]
    }
   ],
   "source": [
    "class Node:\n",
    "\n",
    "    def __init__(self, data, encodings):\n",
    "\n",
    "        self.left = None\n",
    "        self.right = None\n",
    "        self.data = data\n",
    "        self.encodings = encodings\n",
    "        self.encodings_array = [encodings]\n",
    "\n",
    "# Insert method to create nodes\n",
    "    def insert(self, data, encodings):\n",
    "        threshold_value = 0.5\n",
    "        min_distance = 100.\n",
    "        if len(self.encodings_array)>0:\n",
    "            for i in self.encodings_array:\n",
    "                temp_euc = i - encodings\n",
    "                if temp_euc < min_distance:\n",
    "                    min_distance = temp_euc\n",
    "        print min_distance\n",
    "        if abs(min_distance) < threshold_value:\n",
    "            self.encodings_array.append(encodings)\n",
    "            return\n",
    "        elif self.data:\n",
    "            if encodings < self.encodings:\n",
    "                if self.left is None:\n",
    "                    self.left = Node(data, encodings)\n",
    "                else:\n",
    "                    self.left.insert(data, encodings)\n",
    "            elif encodings > self.encodings:\n",
    "                if self.right is None:\n",
    "                    self.right = Node(data, encodings)\n",
    "                else:\n",
    "                    self.right.insert(data, encodings)\n",
    "        else:\n",
    "            self.data = data\n",
    "            self.encodings = encodings\n",
    "            self.encodings_array.append(encodings)\n",
    "# findval method to compare the value with nodes\n",
    "    def findval(self, lkpval):\n",
    "        if lkpval < self.encodings:\n",
    "            if self.left is None:\n",
    "                return str(lkpval)+\" Not Found\"\n",
    "            return self.left.findval(lkpval)\n",
    "        elif lkpval > self.encodings:\n",
    "            if self.right is None:\n",
    "                return str(lkpval)+\" Not Found\"\n",
    "            return self.right.findval(lkpval)\n",
    "        else:\n",
    "            print(str(self.encodings) + ' is found')\n",
    "# Print the tree\n",
    "    def PrintTree(self):\n",
    "        if self.left:\n",
    "            self.left.PrintTree()\n",
    "        print(self.data , ': ', self.encodings_array),\n",
    "        if self.right:\n",
    "            self.right.PrintTree()\n",
    "\n",
    "\n",
    "root = Node(12, 12)\n",
    "root.insert(6, 6)\n",
    "root.insert(14, 15)\n",
    "root.insert(21, 16)\n",
    "root.insert(3, 2)\n",
    "print(root.findval(7))\n",
    "print(root.findval(14))\n",
    "\n",
    "root.PrintTree()"
   ]
  },
  {
   "cell_type": "code",
   "execution_count": 34,
   "metadata": {},
   "outputs": [],
   "source": [
    "from keras.models import Sequential\n",
    "from keras.layers import Conv2D, ZeroPadding2D, Activation, Input, concatenate\n",
    "from keras.models import Model\n",
    "from keras.layers.normalization import BatchNormalization\n",
    "from keras.layers.pooling import MaxPooling2D, AveragePooling2D\n",
    "from keras.layers.merge import Concatenate\n",
    "from keras.layers.core import Lambda, Flatten, Dense\n",
    "from keras.initializers import glorot_uniform\n",
    "from keras.engine.topology import Layer\n",
    "from keras import backend as K\n",
    "K.set_image_data_format('channels_first')\n",
    "import cv2\n",
    "import os\n",
    "import numpy as np\n",
    "from numpy import genfromtxt\n",
    "import pandas as pd\n",
    "import tensorflow as tf\n",
    "from utils import *\n",
    "from inception_blocks import *"
   ]
  },
  {
   "cell_type": "code",
   "execution_count": 35,
   "metadata": {},
   "outputs": [
    {
     "ename": "AttributeError",
     "evalue": "'module' object has no attribute 'conv2d_bn'",
     "output_type": "error",
     "traceback": [
      "\u001b[0;31m---------------------------------------------------------------------------\u001b[0m",
      "\u001b[0;31mAttributeError\u001b[0m                            Traceback (most recent call last)",
      "\u001b[0;32m<ipython-input-35-d22707f0e0f9>\u001b[0m in \u001b[0;36m<module>\u001b[0;34m()\u001b[0m\n\u001b[0;32m----> 1\u001b[0;31m \u001b[0mrecognitionModel\u001b[0m \u001b[0;34m=\u001b[0m \u001b[0mRecognitionModel\u001b[0m\u001b[0;34m(\u001b[0m\u001b[0minput_shape\u001b[0m\u001b[0;34m=\u001b[0m\u001b[0;34m(\u001b[0m\u001b[0;36m3\u001b[0m\u001b[0;34m,\u001b[0m \u001b[0;36m96\u001b[0m\u001b[0;34m,\u001b[0m \u001b[0;36m96\u001b[0m\u001b[0;34m)\u001b[0m\u001b[0;34m)\u001b[0m\u001b[0;34m\u001b[0m\u001b[0m\n\u001b[0m\u001b[1;32m      2\u001b[0m \u001b[0;32mprint\u001b[0m\u001b[0;34m(\u001b[0m\u001b[0;34m\"Total Params:\"\u001b[0m\u001b[0;34m,\u001b[0m \u001b[0mrecognitionModel\u001b[0m\u001b[0;34m.\u001b[0m\u001b[0mcount_params\u001b[0m\u001b[0;34m(\u001b[0m\u001b[0;34m)\u001b[0m\u001b[0;34m)\u001b[0m\u001b[0;34m\u001b[0m\u001b[0m\n\u001b[1;32m      3\u001b[0m \u001b[0;34m\u001b[0m\u001b[0m\n\u001b[1;32m      4\u001b[0m \u001b[0;32mdef\u001b[0m \u001b[0mtriplet_loss\u001b[0m\u001b[0;34m(\u001b[0m\u001b[0my_true\u001b[0m\u001b[0;34m,\u001b[0m \u001b[0my_pred\u001b[0m\u001b[0;34m,\u001b[0m \u001b[0malpha\u001b[0m \u001b[0;34m=\u001b[0m \u001b[0;36m0.2\u001b[0m\u001b[0;34m)\u001b[0m\u001b[0;34m:\u001b[0m\u001b[0;34m\u001b[0m\u001b[0m\n\u001b[1;32m      5\u001b[0m \u001b[0;34m\u001b[0m\u001b[0m\n",
      "\u001b[0;32m/Users/apple/Documents/bottle detection/inception_blocks.pyc\u001b[0m in \u001b[0;36mRecognitionModel\u001b[0;34m(input_shape)\u001b[0m\n\u001b[1;32m    246\u001b[0m     \u001b[0;31m# Inception 1: a/b/c\u001b[0m\u001b[0;34m\u001b[0m\u001b[0;34m\u001b[0m\u001b[0m\n\u001b[1;32m    247\u001b[0m     \u001b[0mX\u001b[0m \u001b[0;34m=\u001b[0m \u001b[0minception_block_1a\u001b[0m\u001b[0;34m(\u001b[0m\u001b[0mX\u001b[0m\u001b[0;34m)\u001b[0m\u001b[0;34m\u001b[0m\u001b[0m\n\u001b[0;32m--> 248\u001b[0;31m     \u001b[0mX\u001b[0m \u001b[0;34m=\u001b[0m \u001b[0minception_block_1b\u001b[0m\u001b[0;34m(\u001b[0m\u001b[0mX\u001b[0m\u001b[0;34m)\u001b[0m\u001b[0;34m\u001b[0m\u001b[0m\n\u001b[0m\u001b[1;32m    249\u001b[0m     \u001b[0mX\u001b[0m \u001b[0;34m=\u001b[0m \u001b[0minception_block_1c\u001b[0m\u001b[0;34m(\u001b[0m\u001b[0mX\u001b[0m\u001b[0;34m)\u001b[0m\u001b[0;34m\u001b[0m\u001b[0m\n\u001b[1;32m    250\u001b[0m \u001b[0;34m\u001b[0m\u001b[0m\n",
      "\u001b[0;32m/Users/apple/Documents/bottle detection/inception_blocks.pyc\u001b[0m in \u001b[0;36minception_block_1a\u001b[0;34m(X)\u001b[0m\n\u001b[1;32m     14\u001b[0m \u001b[0;32mdef\u001b[0m \u001b[0minception_block_1a\u001b[0m\u001b[0;34m(\u001b[0m\u001b[0mX\u001b[0m\u001b[0;34m)\u001b[0m\u001b[0;34m:\u001b[0m\u001b[0;34m\u001b[0m\u001b[0m\n\u001b[1;32m     15\u001b[0m     X_3x3 = utils.conv2d_bn(X,\n\u001b[0;32m---> 16\u001b[0;31m                            \u001b[0mlayer\u001b[0m\u001b[0;34m=\u001b[0m\u001b[0;34m'inception_3a_3x3'\u001b[0m\u001b[0;34m,\u001b[0m\u001b[0;34m\u001b[0m\u001b[0m\n\u001b[0m\u001b[1;32m     17\u001b[0m                            \u001b[0mcv1_out\u001b[0m\u001b[0;34m=\u001b[0m\u001b[0;36m96\u001b[0m\u001b[0;34m,\u001b[0m\u001b[0;34m\u001b[0m\u001b[0m\n\u001b[1;32m     18\u001b[0m                            \u001b[0mcv1_filter\u001b[0m\u001b[0;34m=\u001b[0m\u001b[0;34m(\u001b[0m\u001b[0;36m1\u001b[0m\u001b[0;34m,\u001b[0m \u001b[0;36m1\u001b[0m\u001b[0;34m)\u001b[0m\u001b[0;34m,\u001b[0m\u001b[0;34m\u001b[0m\u001b[0m\n",
      "\u001b[0;31mAttributeError\u001b[0m: 'module' object has no attribute 'conv2d_bn'"
     ]
    }
   ],
   "source": [
    "recognitionModel = RecognitionModel(input_shape=(3, 96, 96))\n",
    "print(\"Total Params:\", recognitionModel.count_params())\n",
    "\n",
    "def triplet_loss(y_true, y_pred, alpha = 0.2):\n",
    "    \n",
    "    anchor, positive, negative = y_pred[0], y_pred[1], y_pred[2]\n",
    "    # distance between the anchor and the positive\n",
    "    pos_dist = tf.reduce_sum(tf.square(tf.subtract(anchor, positive)),axis=-1)\n",
    "    # distance between the anchor and the negative\n",
    "    neg_dist = tf.reduce_sum(tf.square(tf.subtract(anchor, negative)),axis=-1)\n",
    "    # basic loss\n",
    "    basic_loss = (pos_dist-neg_dist)+ alpha\n",
    "    # loss\n",
    "    loss = tf.reduce_sum(tf.maximum(basic_loss,0.0))\n",
    "    return loss\n",
    "\n",
    "recognitionModel.compile(optimizer = 'adam', loss = triplet_loss, metrics = ['accuracy'])\n",
    "load_weights_from_FaceNet(recognitionModel)\n",
    "print(\"Finish loading weight\")"
   ]
  },
  {
   "cell_type": "code",
   "execution_count": 33,
   "metadata": {},
   "outputs": [
    {
     "ename": "ImportError",
     "evalue": "cannot import name load_weights",
     "output_type": "error",
     "traceback": [
      "\u001b[0;31m---------------------------------------------------------------------------\u001b[0m",
      "\u001b[0;31mImportError\u001b[0m                               Traceback (most recent call last)",
      "\u001b[0;32m<ipython-input-33-b298af8f1064>\u001b[0m in \u001b[0;36m<module>\u001b[0;34m()\u001b[0m\n\u001b[0;32m----> 1\u001b[0;31m \u001b[0;32mfrom\u001b[0m \u001b[0mutils\u001b[0m \u001b[0;32mimport\u001b[0m \u001b[0mload_weights\u001b[0m\u001b[0;34m\u001b[0m\u001b[0m\n\u001b[0m",
      "\u001b[0;31mImportError\u001b[0m: cannot import name load_weights"
     ]
    }
   ],
   "source": [
    "from utils import load_weights"
   ]
  },
  {
   "cell_type": "code",
   "execution_count": 31,
   "metadata": {},
   "outputs": [
    {
     "data": {
      "text/plain": [
       "['',\n",
       " '/Users/apple/anaconda2/lib/python27.zip',\n",
       " '/Users/apple/anaconda2/lib/python2.7',\n",
       " '/Users/apple/anaconda2/lib/python2.7/plat-darwin',\n",
       " '/Users/apple/anaconda2/lib/python2.7/plat-mac',\n",
       " '/Users/apple/anaconda2/lib/python2.7/plat-mac/lib-scriptpackages',\n",
       " '/Users/apple/anaconda2/lib/python2.7/lib-tk',\n",
       " '/Users/apple/anaconda2/lib/python2.7/lib-old',\n",
       " '/Users/apple/anaconda2/lib/python2.7/lib-dynload',\n",
       " '/Users/apple/anaconda2/lib/python2.7/site-packages',\n",
       " '/Users/apple/anaconda2/lib/python2.7/site-packages/aeosa',\n",
       " '/Users/apple/anaconda2/lib/python2.7/site-packages',\n",
       " '/Users/apple/anaconda2/lib/python2.7/site-packages/IPython/extensions',\n",
       " '/Users/apple/.ipython',\n",
       " 'path/to/module',\n",
       " '/Users/apple/Documents/bottle\\\\ detection',\n",
       " '/Users/apple/Documents/bottle detection']"
      ]
     },
     "execution_count": 31,
     "metadata": {},
     "output_type": "execute_result"
    }
   ],
   "source": [
    "import sys\n",
    "sys.path.append('/Users/apple/Documents/bottle detection')"
   ]
  },
  {
   "cell_type": "code",
   "execution_count": null,
   "metadata": {},
   "outputs": [],
   "source": []
  }
 ],
 "metadata": {
  "kernelspec": {
   "display_name": "Python 2",
   "language": "python",
   "name": "python2"
  },
  "language_info": {
   "codemirror_mode": {
    "name": "ipython",
    "version": 2
   },
   "file_extension": ".py",
   "mimetype": "text/x-python",
   "name": "python",
   "nbconvert_exporter": "python",
   "pygments_lexer": "ipython2",
   "version": "2.7.15"
  }
 },
 "nbformat": 4,
 "nbformat_minor": 2
}
