{
 "cells": [
  {
   "cell_type": "code",
   "execution_count": 67,
   "metadata": {},
   "outputs": [],
   "source": [
    "class Node:\n",
    "    def __init__(self, data, encodings):\n",
    "\n",
    "        self.left = None\n",
    "        self.right = None\n",
    "        self.data = data\n",
    "        self.encodings_array = [encodings]\n",
    "        self.encodings = encodings\n",
    "        self.value = abs(sum(sum(encodings)))\n",
    "        \n",
    "# Insert method to create nodes\n",
    "    def insert(self, data, encodings):\n",
    "        threshold_value = 0.7\n",
    "        min_distance = 100.\n",
    "        if len(self.encodings_array)>0:\n",
    "            for i in self.encodings_array:\n",
    "                temp_euc = np.linalg.norm(i - encodings)\n",
    "                if temp_euc < min_distance:\n",
    "                    min_distance = temp_euc\n",
    "        print min_distance\n",
    "        if abs(min_distance) < threshold_value:\n",
    "            print \"threshold reached\", data\n",
    "            print len(self.encodings_array)\n",
    "            self.encodings_array.append(encodings)\n",
    "            print len(self.encodings_array)\n",
    "            print \"threshold end\", data\n",
    "            return\n",
    "        elif self.data:\n",
    "            if sum(sum(encodings)) < self.value:\n",
    "                if self.left is None:\n",
    "                    self.left = Node(data, encodings)\n",
    "                else:\n",
    "                    self.left.insert(data, encodings)\n",
    "            elif sum(sum(encodings)) > self.value:\n",
    "                if self.right is None:\n",
    "                    self.right = Node(data, encodings)\n",
    "                else:\n",
    "                    self.right.insert(data, encodings)\n",
    "        else:\n",
    "            self.data = data\n",
    "            self.encodings = encodings\n",
    "# findval method to compare the value with nodes\n",
    "    def findval(self, lkpval):\n",
    "        if lkpval < self.encodings:\n",
    "            if self.left is None:\n",
    "                return str(lkpval)+\" Not Found\"\n",
    "            return self.left.findval(lkpval)\n",
    "        elif lkpval > self.encodings:\n",
    "            if self.right is None:\n",
    "                return str(lkpval)+\" Not Found\"\n",
    "            return self.right.findval(lkpval)\n",
    "        else:\n",
    "            print(str(self.encodings) + ' is found')\n",
    "# Print the tree\n",
    "    def PrintTree(self):\n",
    "        if self.left:\n",
    "            self.left.PrintTree()\n",
    "        print(self.data , ': ', len(self.encodings_array), self.value),\n",
    "        if self.right:\n",
    "            self.right.PrintTree()\n",
    "\n",
    "\n",
    "# root = Node(12, 12)\n",
    "# root.insert(6, 6)\n",
    "# root.insert(14, 15)\n",
    "# root.insert(21, 16)\n",
    "# root.insert(3, 2)\n",
    "# print(root.findval(7))\n",
    "# print(root.findval(14))\n",
    "\n",
    "# root.PrintTree()"
   ]
  },
  {
   "cell_type": "code",
   "execution_count": 2,
   "metadata": {},
   "outputs": [
    {
     "name": "stderr",
     "output_type": "stream",
     "text": [
      "Using TensorFlow backend.\n"
     ]
    }
   ],
   "source": [
    "from keras.models import Sequential\n",
    "from keras.layers import Conv2D, ZeroPadding2D, Activation, Input, concatenate\n",
    "from keras.models import Model\n",
    "from keras.layers.normalization import BatchNormalization\n",
    "from keras.layers.pooling import MaxPooling2D, AveragePooling2D\n",
    "from keras.layers.merge import Concatenate\n",
    "from keras.layers.core import Lambda, Flatten, Dense\n",
    "from keras.initializers import glorot_uniform\n",
    "from keras.engine.topology import Layer\n",
    "from keras import backend as K\n",
    "K.set_image_data_format('channels_first')\n",
    "import cv2\n",
    "import os\n",
    "import numpy as np\n",
    "from numpy import genfromtxt\n",
    "import pandas as pd\n",
    "import tensorflow as tf\n",
    "from utils import *\n",
    "from inception_blocks import *"
   ]
  },
  {
   "cell_type": "code",
   "execution_count": 3,
   "metadata": {},
   "outputs": [
    {
     "name": "stdout",
     "output_type": "stream",
     "text": [
      "('Total Params:', 3743280)\n",
      "Finish loading weight\n"
     ]
    }
   ],
   "source": [
    "recognitionModel = RecognitionModel(input_shape=(3, 96, 96))\n",
    "print(\"Total Params:\", recognitionModel.count_params())\n",
    "\n",
    "def triplet_loss(y_true, y_pred, alpha = 0.2):\n",
    "    \n",
    "    anchor, positive, negative = y_pred[0], y_pred[1], y_pred[2]\n",
    "   \n",
    "    pos_dist = tf.reduce_sum(tf.square(tf.subtract(anchor, positive)),axis=-1)\n",
    "  \n",
    "    neg_dist = tf.reduce_sum(tf.square(tf.subtract(anchor, negative)),axis=-1)\n",
    "\n",
    "    basic_loss = (pos_dist-neg_dist)+ alpha\n",
    "\n",
    "    loss = tf.reduce_sum(tf.maximum(basic_loss,0.0))\n",
    "    return loss\n",
    "\n",
    "recognitionModel.compile(optimizer = 'adam', loss = triplet_loss, metrics = ['accuracy'])\n",
    "load_weights_from_FaceNet(recognitionModel)\n",
    "print(\"Finish loading weight\")"
   ]
  },
  {
   "cell_type": "code",
   "execution_count": 55,
   "metadata": {},
   "outputs": [
    {
     "data": {
      "text/plain": [
       "1.8997979647829197"
      ]
     },
     "execution_count": 55,
     "metadata": {},
     "output_type": "execute_result"
    }
   ],
   "source": [
    "\n",
    "import os\n",
    "files=[]\n",
    "files = [f for f in sorted(os.listdir(\"./ids\")) if not f.startswith('.')]\n",
    "\n",
    "\n",
    "# image_path = \"Output/pree2.jpg\"\n",
    "# encoding = img_to_encoding(image_path, recognitionModel)\n",
    "\n",
    "image_path1 = \"dd.png\"\n",
    "encoding2 = img_to_encoding(image_path1, recognitionModel)\n",
    "\n",
    "abs(sum(sum(encoding2)))"
   ]
  },
  {
   "cell_type": "code",
   "execution_count": 56,
   "metadata": {},
   "outputs": [
    {
     "data": {
      "text/plain": [
       "['1', '2', '3', '4']"
      ]
     },
     "execution_count": 56,
     "metadata": {},
     "output_type": "execute_result"
    }
   ],
   "source": [
    "files"
   ]
  },
  {
   "cell_type": "code",
   "execution_count": 61,
   "metadata": {},
   "outputs": [],
   "source": [
    "def create_dictionary(home_directory):\n",
    "    temp = {}\n",
    "    for f in sorted(os.listdir(home_directory)):\n",
    "        if not f.startswith('.'):\n",
    "            temp[f] = []\n",
    "            for j in sorted(os.listdir(home_directory+\"/\"+str(f))):\n",
    "                if not j.startswith('.'):\n",
    "                    image_path = home_directory+\"/\"+str(f)+\"/\"+str(j)\n",
    "                    encoding = img_to_encoding(image_path, recognitionModel)\n",
    "                    temp[f].append(encoding)\n",
    "                \n",
    "    return temp\n",
    "\n",
    "dirw = \"./ids\"\n",
    "dd0 = create_dictionary(dirw)"
   ]
  },
  {
   "cell_type": "code",
   "execution_count": 68,
   "metadata": {},
   "outputs": [
    {
     "name": "stdout",
     "output_type": "stream",
     "text": [
      "1.1733931\n",
      "1.0580263\n",
      "1.0442542\n",
      "1.171442\n",
      "1.0102651\n",
      "1.0074837\n",
      "0.65824664\n",
      "threshold reached 4\n",
      "1\n",
      "2\n",
      "threshold end 4\n",
      "('2', ': ', 1, 0.13167131043155678) ('1', ': ', 2, 0.42913688183762133) ('3', ': ', 1, 0.9221584315528162) ('5', ': ', 1, 1.8997979647829197)\n"
     ]
    }
   ],
   "source": [
    "root = Node('5', encoding2)\n",
    "for key, value in dd.iteritems():\n",
    "    for i in value:\n",
    "        root.insert(key,i)\n",
    "# root.insert(6, 6)\n",
    "# root.insert(14, 15)\n",
    "# root.insert(21, 16)\n",
    "# root.insert(3, 2)\n",
    "# print(root.findval(7))\n",
    "# print(root.findval(14))\n",
    "\n",
    "root.PrintTree()"
   ]
  },
  {
   "cell_type": "code",
   "execution_count": null,
   "metadata": {},
   "outputs": [],
   "source": []
  }
 ],
 "metadata": {
  "kernelspec": {
   "display_name": "Python 2",
   "language": "python",
   "name": "python2"
  },
  "language_info": {
   "codemirror_mode": {
    "name": "ipython",
    "version": 2
   },
   "file_extension": ".py",
   "mimetype": "text/x-python",
   "name": "python",
   "nbconvert_exporter": "python",
   "pygments_lexer": "ipython2",
   "version": "2.7.15"
  }
 },
 "nbformat": 4,
 "nbformat_minor": 2
}
